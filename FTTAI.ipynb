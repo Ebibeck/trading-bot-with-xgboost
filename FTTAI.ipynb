{
 "cells": [
  {
   "cell_type": "code",
   "execution_count": 1,
   "metadata": {},
   "outputs": [],
   "source": [
    "import pandas as pd\n",
    "import xgboost as xgb\n",
    "from xgboost import XGBClassifier\n",
    "from sklearn.model_selection import train_test_split\n",
    "from sklearn.metrics import accuracy_score, log_loss\n",
    "import requests as rq\n",
    "import numpy as np\n",
    "import pandas_ta as ta\n",
    "import plotly.graph_objects as go\n",
    "from plotly._subplots import make_subplots\n",
    "from datetime import datetime"
   ]
  },
  {
   "cell_type": "code",
   "execution_count": 2,
   "metadata": {},
   "outputs": [
    {
     "data": {
      "text/plain": [
       "       Time    0\n",
       " Open          0\n",
       " High          0\n",
       " Low           0\n",
       " Close         0\n",
       " Volume        0\n",
       "dtype: int64"
      ]
     },
     "execution_count": 2,
     "metadata": {},
     "output_type": "execute_result"
    }
   ],
   "source": [
    "df = pd.read_excel('EURUSD240.xlsx')\n",
    "df=df[df[' Volume']!=0]\n",
    "df.reset_index(drop=True, inplace=True)\n",
    "df.isna().sum()\n"
   ]
  },
  {
   "cell_type": "code",
   "execution_count": 3,
   "metadata": {},
   "outputs": [],
   "source": [
    "df['Rsi'] = ta.momentum.rsi(df[' Close'],length=14)"
   ]
  },
  {
   "cell_type": "code",
   "execution_count": 4,
   "metadata": {},
   "outputs": [],
   "source": [
    "df['       Time'] = pd.to_datetime(df['       Time'])"
   ]
  },
  {
   "cell_type": "code",
   "execution_count": 5,
   "metadata": {},
   "outputs": [
    {
     "data": {
      "application/vnd.plotly.v1+json": {
       "config": {
        "plotlyServerURL": "https://plot.ly"
       },
       "data": [
        {
         "close": [
          1.31915,
          1.31933,
          1.31681,
          1.31676,
          1.31903,
          1.31917,
          1.32329,
          1.32382,
          1.32734,
          1.32721,
          1.32845,
          1.32751,
          1.32792,
          1.32849,
          1.32723,
          1.32301,
          1.31659,
          1.31576,
          1.31596,
          1.31672,
          1.31196,
          1.31069,
          1.30928,
          1.30768,
          1.30769,
          1.30671,
          1.30838,
          1.30845,
          1.30031,
          1.29994,
          1.29995,
          1.2993,
          1.29982,
          1.30172,
          1.30119,
          1.30199,
          1.30158,
          1.30448,
          1.30407,
          1.30271,
          1.30126,
          1.29925,
          1.29966,
          1.29673,
          1.29705,
          1.2979,
          1.29871,
          1.29385,
          1.29375,
          1.29459,
          1.29556,
          1.2963,
          1.29819,
          1.29004,
          1.28892,
          1.28822,
          1.29011,
          1.2909,
          1.2888,
          1.29223,
          1.2915,
          1.29212,
          1.2916,
          1.29339,
          1.29387,
          1.29397,
          1.29336,
          1.29338,
          1.29249,
          1.29414,
          1.29532,
          1.29596,
          1.29155,
          1.29112,
          1.29207,
          1.29241,
          1.2925,
          1.29162,
          1.29455,
          1.29312,
          1.29341,
          1.29678,
          1.29555,
          1.29228,
          1.29378,
          1.29594,
          1.29637,
          1.29975,
          1.29814,
          1.2962,
          1.29659,
          1.29577,
          1.29536,
          1.29675,
          1.29709,
          1.29649,
          1.29295,
          1.29551,
          1.29472,
          1.294
         ],
         "high": [
          1.31964,
          1.31973,
          1.31985,
          1.31706,
          1.31949,
          1.32095,
          1.32343,
          1.32393,
          1.32811,
          1.32887,
          1.32951,
          1.32886,
          1.32839,
          1.32903,
          1.32856,
          1.32736,
          1.32571,
          1.31725,
          1.31713,
          1.31771,
          1.31783,
          1.3128,
          1.31158,
          1.30984,
          1.3093,
          1.3091,
          1.31029,
          1.31026,
          1.30884,
          1.30126,
          1.30093,
          1.30141,
          1.30075,
          1.30271,
          1.30223,
          1.30301,
          1.30349,
          1.30461,
          1.30466,
          1.30517,
          1.30367,
          1.30275,
          1.30138,
          1.3003,
          1.29731,
          1.29974,
          1.30002,
          1.2992,
          1.29416,
          1.29471,
          1.29633,
          1.29703,
          1.30124,
          1.2991,
          1.29094,
          1.28975,
          1.29065,
          1.29164,
          1.29148,
          1.29418,
          1.29309,
          1.29245,
          1.29276,
          1.29373,
          1.2955,
          1.29529,
          1.29454,
          1.29419,
          1.29392,
          1.29437,
          1.29715,
          1.29875,
          1.29655,
          1.29236,
          1.29237,
          1.29302,
          1.29381,
          1.29323,
          1.29491,
          1.29494,
          1.29485,
          1.29756,
          1.29707,
          1.29576,
          1.29613,
          1.29676,
          1.29663,
          1.29995,
          1.29998,
          1.29842,
          1.29659,
          1.29701,
          1.29684,
          1.29704,
          1.29758,
          1.29769,
          1.29733,
          1.29659,
          1.29566,
          1.2952
         ],
         "low": [
          1.31894,
          1.31872,
          1.31666,
          1.3165,
          1.31661,
          1.31837,
          1.31865,
          1.32226,
          1.32233,
          1.32637,
          1.3266,
          1.32673,
          1.32645,
          1.32734,
          1.32659,
          1.3217,
          1.31596,
          1.31461,
          1.3152,
          1.3159,
          1.31128,
          1.30868,
          1.30754,
          1.3073,
          1.30704,
          1.30601,
          1.30641,
          1.3076,
          1.29804,
          1.29927,
          1.2994,
          1.29837,
          1.29891,
          1.29933,
          1.30003,
          1.29722,
          1.30084,
          1.30073,
          1.30277,
          1.30246,
          1.30062,
          1.29855,
          1.2991,
          1.29598,
          1.29485,
          1.29648,
          1.29778,
          1.29304,
          1.29281,
          1.29261,
          1.29408,
          1.29397,
          1.29587,
          1.28836,
          1.28806,
          1.28788,
          1.28747,
          1.28904,
          1.28849,
          1.28668,
          1.29067,
          1.29093,
          1.29121,
          1.29121,
          1.2924,
          1.29344,
          1.2926,
          1.29238,
          1.29234,
          1.29183,
          1.29344,
          1.29527,
          1.29119,
          1.29069,
          1.29062,
          1.2909,
          1.29168,
          1.29107,
          1.28973,
          1.29248,
          1.29272,
          1.29311,
          1.29516,
          1.29145,
          1.28971,
          1.29325,
          1.29523,
          1.29607,
          1.29735,
          1.29526,
          1.29129,
          1.29557,
          1.29536,
          1.29505,
          1.2962,
          1.29603,
          1.29201,
          1.29278,
          1.2939,
          1.29348
         ],
         "open": [
          1.31908,
          1.31925,
          1.31942,
          1.3169,
          1.31674,
          1.31892,
          1.31883,
          1.32318,
          1.3236,
          1.32757,
          1.32735,
          1.32817,
          1.32704,
          1.32793,
          1.32856,
          1.3271,
          1.32338,
          1.31672,
          1.3152,
          1.3163,
          1.31653,
          1.31219,
          1.31084,
          1.30904,
          1.30704,
          1.30783,
          1.30682,
          1.3083,
          1.30852,
          1.30025,
          1.29961,
          1.30097,
          1.29933,
          1.29968,
          1.30182,
          1.3012,
          1.30198,
          1.30145,
          1.3046,
          1.30376,
          1.30285,
          1.30123,
          1.29919,
          1.29945,
          1.29643,
          1.29681,
          1.29803,
          1.29878,
          1.29352,
          1.2933,
          1.29461,
          1.29513,
          1.2966,
          1.29825,
          1.29017,
          1.28856,
          1.28825,
          1.2899,
          1.29096,
          1.28875,
          1.29213,
          1.29093,
          1.29219,
          1.29154,
          1.2934,
          1.29392,
          1.29399,
          1.29323,
          1.29286,
          1.2925,
          1.2942,
          1.29535,
          1.29596,
          1.29145,
          1.29083,
          1.29221,
          1.29246,
          1.29249,
          1.29169,
          1.29449,
          1.29288,
          1.29351,
          1.29661,
          1.29549,
          1.29221,
          1.2939,
          1.29597,
          1.29609,
          1.29976,
          1.29822,
          1.29602,
          1.29657,
          1.29582,
          1.29592,
          1.2968,
          1.29677,
          1.29658,
          1.29312,
          1.29537,
          1.29404
         ],
         "type": "candlestick",
         "x": [
          0,
          1,
          2,
          3,
          4,
          5,
          6,
          7,
          8,
          9,
          10,
          11,
          12,
          13,
          14,
          15,
          16,
          17,
          18,
          19,
          20,
          21,
          22,
          23,
          24,
          25,
          26,
          27,
          28,
          29,
          30,
          31,
          32,
          33,
          34,
          35,
          36,
          37,
          38,
          39,
          40,
          41,
          42,
          43,
          44,
          45,
          46,
          47,
          48,
          49,
          50,
          51,
          52,
          53,
          54,
          55,
          56,
          57,
          58,
          59,
          60,
          61,
          62,
          63,
          64,
          65,
          66,
          67,
          68,
          69,
          70,
          71,
          72,
          73,
          74,
          75,
          76,
          77,
          78,
          79,
          80,
          81,
          82,
          83,
          84,
          85,
          86,
          87,
          88,
          89,
          90,
          91,
          92,
          93,
          94,
          95,
          96,
          97,
          98,
          99
         ],
         "xaxis": "x",
         "yaxis": "y"
        },
        {
         "type": "scatter",
         "x": [
          0,
          1,
          2,
          3,
          4,
          5,
          6,
          7,
          8,
          9,
          10,
          11,
          12,
          13,
          14,
          15,
          16,
          17,
          18,
          19,
          20,
          21,
          22,
          23,
          24,
          25,
          26,
          27,
          28,
          29,
          30,
          31,
          32,
          33,
          34,
          35,
          36,
          37,
          38,
          39,
          40,
          41,
          42,
          43,
          44,
          45,
          46,
          47,
          48,
          49,
          50,
          51,
          52,
          53,
          54,
          55,
          56,
          57,
          58,
          59,
          60,
          61,
          62,
          63,
          64,
          65,
          66,
          67,
          68,
          69,
          70,
          71,
          72,
          73,
          74,
          75,
          76,
          77,
          78,
          79,
          80,
          81,
          82,
          83,
          84,
          85,
          86,
          87,
          88,
          89,
          90,
          91,
          92,
          93,
          94,
          95,
          96,
          97,
          98,
          99
         ],
         "xaxis": "x2",
         "y": [
          null,
          null,
          null,
          null,
          null,
          null,
          null,
          null,
          null,
          null,
          null,
          null,
          null,
          null,
          71.36702491707082,
          50.55105304524348,
          34.20543164714944,
          32.73186518061938,
          33.475556126061996,
          36.355044790244,
          28.139614603905663,
          26.423903909373973,
          24.628493126892742,
          22.740291255062665,
          22.78013905048539,
          21.60416053548631,
          28.38840433376599,
          28.667058037268557,
          19.274619958173762,
          18.970368281910115,
          19.00757955196981,
          18.415589651822987,
          20.547503730106595,
          27.955461886207683,
          27.193790444184106,
          30.281577573086278,
          29.5889698504988,
          40.036110724552564,
          39.15165236575887,
          36.28795122089974,
          33.47649481936409,
          30.006011839403143,
          31.564501263693714,
          26.946864152330754,
          28.18257746122909,
          31.497249038569,
          34.59517649852605,
          26.77204386295407,
          26.63856136550645,
          29.804594477034097,
          33.38003177281389,
          36.05590534511111,
          42.41750606416895,
          29.013247526896293,
          27.716997024583563,
          26.907833989372048,
          32.626896705387225,
          34.91912251157945,
          31.8199404155619,
          41.026551645196406,
          39.79491271468379,
          41.403856747749316,
          40.427999402867975,
          45.21477793859959,
          46.457216674287736,
          46.72826817632135,
          45.224304692754814,
          45.28648274082578,
          42.95002821384219,
          48.27778596287141,
          51.74822989097132,
          53.567965478664206,
          41.85460339709016,
          40.915150270187254,
          43.91053764810679,
          44.98550187201272,
          45.28443352882019,
          42.83365143787518,
          52.124201370740714,
          48.02219721303563,
          48.90045171989228,
          57.81970792365762,
          54.10752682187054,
          45.70607216910648,
          49.57400952226866,
          54.59072960673703,
          55.53902534500363,
          62.218096070090965,
          57.766583488872314,
          52.85897237751597,
          53.71035516836379,
          51.600215199800964,
          50.53123939007741,
          54.00978298425003,
          54.846174788277736,
          53.0138980631815,
          43.731224916872286,
          50.483561835719904,
          48.54747385534967,
          46.78637167338238
         ],
         "yaxis": "y2"
        }
       ],
       "layout": {
        "template": {
         "data": {
          "bar": [
           {
            "error_x": {
             "color": "#2a3f5f"
            },
            "error_y": {
             "color": "#2a3f5f"
            },
            "marker": {
             "line": {
              "color": "#E5ECF6",
              "width": 0.5
             },
             "pattern": {
              "fillmode": "overlay",
              "size": 10,
              "solidity": 0.2
             }
            },
            "type": "bar"
           }
          ],
          "barpolar": [
           {
            "marker": {
             "line": {
              "color": "#E5ECF6",
              "width": 0.5
             },
             "pattern": {
              "fillmode": "overlay",
              "size": 10,
              "solidity": 0.2
             }
            },
            "type": "barpolar"
           }
          ],
          "carpet": [
           {
            "aaxis": {
             "endlinecolor": "#2a3f5f",
             "gridcolor": "white",
             "linecolor": "white",
             "minorgridcolor": "white",
             "startlinecolor": "#2a3f5f"
            },
            "baxis": {
             "endlinecolor": "#2a3f5f",
             "gridcolor": "white",
             "linecolor": "white",
             "minorgridcolor": "white",
             "startlinecolor": "#2a3f5f"
            },
            "type": "carpet"
           }
          ],
          "choropleth": [
           {
            "colorbar": {
             "outlinewidth": 0,
             "ticks": ""
            },
            "type": "choropleth"
           }
          ],
          "contour": [
           {
            "colorbar": {
             "outlinewidth": 0,
             "ticks": ""
            },
            "colorscale": [
             [
              0,
              "#0d0887"
             ],
             [
              0.1111111111111111,
              "#46039f"
             ],
             [
              0.2222222222222222,
              "#7201a8"
             ],
             [
              0.3333333333333333,
              "#9c179e"
             ],
             [
              0.4444444444444444,
              "#bd3786"
             ],
             [
              0.5555555555555556,
              "#d8576b"
             ],
             [
              0.6666666666666666,
              "#ed7953"
             ],
             [
              0.7777777777777778,
              "#fb9f3a"
             ],
             [
              0.8888888888888888,
              "#fdca26"
             ],
             [
              1,
              "#f0f921"
             ]
            ],
            "type": "contour"
           }
          ],
          "contourcarpet": [
           {
            "colorbar": {
             "outlinewidth": 0,
             "ticks": ""
            },
            "type": "contourcarpet"
           }
          ],
          "heatmap": [
           {
            "colorbar": {
             "outlinewidth": 0,
             "ticks": ""
            },
            "colorscale": [
             [
              0,
              "#0d0887"
             ],
             [
              0.1111111111111111,
              "#46039f"
             ],
             [
              0.2222222222222222,
              "#7201a8"
             ],
             [
              0.3333333333333333,
              "#9c179e"
             ],
             [
              0.4444444444444444,
              "#bd3786"
             ],
             [
              0.5555555555555556,
              "#d8576b"
             ],
             [
              0.6666666666666666,
              "#ed7953"
             ],
             [
              0.7777777777777778,
              "#fb9f3a"
             ],
             [
              0.8888888888888888,
              "#fdca26"
             ],
             [
              1,
              "#f0f921"
             ]
            ],
            "type": "heatmap"
           }
          ],
          "heatmapgl": [
           {
            "colorbar": {
             "outlinewidth": 0,
             "ticks": ""
            },
            "colorscale": [
             [
              0,
              "#0d0887"
             ],
             [
              0.1111111111111111,
              "#46039f"
             ],
             [
              0.2222222222222222,
              "#7201a8"
             ],
             [
              0.3333333333333333,
              "#9c179e"
             ],
             [
              0.4444444444444444,
              "#bd3786"
             ],
             [
              0.5555555555555556,
              "#d8576b"
             ],
             [
              0.6666666666666666,
              "#ed7953"
             ],
             [
              0.7777777777777778,
              "#fb9f3a"
             ],
             [
              0.8888888888888888,
              "#fdca26"
             ],
             [
              1,
              "#f0f921"
             ]
            ],
            "type": "heatmapgl"
           }
          ],
          "histogram": [
           {
            "marker": {
             "pattern": {
              "fillmode": "overlay",
              "size": 10,
              "solidity": 0.2
             }
            },
            "type": "histogram"
           }
          ],
          "histogram2d": [
           {
            "colorbar": {
             "outlinewidth": 0,
             "ticks": ""
            },
            "colorscale": [
             [
              0,
              "#0d0887"
             ],
             [
              0.1111111111111111,
              "#46039f"
             ],
             [
              0.2222222222222222,
              "#7201a8"
             ],
             [
              0.3333333333333333,
              "#9c179e"
             ],
             [
              0.4444444444444444,
              "#bd3786"
             ],
             [
              0.5555555555555556,
              "#d8576b"
             ],
             [
              0.6666666666666666,
              "#ed7953"
             ],
             [
              0.7777777777777778,
              "#fb9f3a"
             ],
             [
              0.8888888888888888,
              "#fdca26"
             ],
             [
              1,
              "#f0f921"
             ]
            ],
            "type": "histogram2d"
           }
          ],
          "histogram2dcontour": [
           {
            "colorbar": {
             "outlinewidth": 0,
             "ticks": ""
            },
            "colorscale": [
             [
              0,
              "#0d0887"
             ],
             [
              0.1111111111111111,
              "#46039f"
             ],
             [
              0.2222222222222222,
              "#7201a8"
             ],
             [
              0.3333333333333333,
              "#9c179e"
             ],
             [
              0.4444444444444444,
              "#bd3786"
             ],
             [
              0.5555555555555556,
              "#d8576b"
             ],
             [
              0.6666666666666666,
              "#ed7953"
             ],
             [
              0.7777777777777778,
              "#fb9f3a"
             ],
             [
              0.8888888888888888,
              "#fdca26"
             ],
             [
              1,
              "#f0f921"
             ]
            ],
            "type": "histogram2dcontour"
           }
          ],
          "mesh3d": [
           {
            "colorbar": {
             "outlinewidth": 0,
             "ticks": ""
            },
            "type": "mesh3d"
           }
          ],
          "parcoords": [
           {
            "line": {
             "colorbar": {
              "outlinewidth": 0,
              "ticks": ""
             }
            },
            "type": "parcoords"
           }
          ],
          "pie": [
           {
            "automargin": true,
            "type": "pie"
           }
          ],
          "scatter": [
           {
            "fillpattern": {
             "fillmode": "overlay",
             "size": 10,
             "solidity": 0.2
            },
            "type": "scatter"
           }
          ],
          "scatter3d": [
           {
            "line": {
             "colorbar": {
              "outlinewidth": 0,
              "ticks": ""
             }
            },
            "marker": {
             "colorbar": {
              "outlinewidth": 0,
              "ticks": ""
             }
            },
            "type": "scatter3d"
           }
          ],
          "scattercarpet": [
           {
            "marker": {
             "colorbar": {
              "outlinewidth": 0,
              "ticks": ""
             }
            },
            "type": "scattercarpet"
           }
          ],
          "scattergeo": [
           {
            "marker": {
             "colorbar": {
              "outlinewidth": 0,
              "ticks": ""
             }
            },
            "type": "scattergeo"
           }
          ],
          "scattergl": [
           {
            "marker": {
             "colorbar": {
              "outlinewidth": 0,
              "ticks": ""
             }
            },
            "type": "scattergl"
           }
          ],
          "scattermapbox": [
           {
            "marker": {
             "colorbar": {
              "outlinewidth": 0,
              "ticks": ""
             }
            },
            "type": "scattermapbox"
           }
          ],
          "scatterpolar": [
           {
            "marker": {
             "colorbar": {
              "outlinewidth": 0,
              "ticks": ""
             }
            },
            "type": "scatterpolar"
           }
          ],
          "scatterpolargl": [
           {
            "marker": {
             "colorbar": {
              "outlinewidth": 0,
              "ticks": ""
             }
            },
            "type": "scatterpolargl"
           }
          ],
          "scatterternary": [
           {
            "marker": {
             "colorbar": {
              "outlinewidth": 0,
              "ticks": ""
             }
            },
            "type": "scatterternary"
           }
          ],
          "surface": [
           {
            "colorbar": {
             "outlinewidth": 0,
             "ticks": ""
            },
            "colorscale": [
             [
              0,
              "#0d0887"
             ],
             [
              0.1111111111111111,
              "#46039f"
             ],
             [
              0.2222222222222222,
              "#7201a8"
             ],
             [
              0.3333333333333333,
              "#9c179e"
             ],
             [
              0.4444444444444444,
              "#bd3786"
             ],
             [
              0.5555555555555556,
              "#d8576b"
             ],
             [
              0.6666666666666666,
              "#ed7953"
             ],
             [
              0.7777777777777778,
              "#fb9f3a"
             ],
             [
              0.8888888888888888,
              "#fdca26"
             ],
             [
              1,
              "#f0f921"
             ]
            ],
            "type": "surface"
           }
          ],
          "table": [
           {
            "cells": {
             "fill": {
              "color": "#EBF0F8"
             },
             "line": {
              "color": "white"
             }
            },
            "header": {
             "fill": {
              "color": "#C8D4E3"
             },
             "line": {
              "color": "white"
             }
            },
            "type": "table"
           }
          ]
         },
         "layout": {
          "annotationdefaults": {
           "arrowcolor": "#2a3f5f",
           "arrowhead": 0,
           "arrowwidth": 1
          },
          "autotypenumbers": "strict",
          "coloraxis": {
           "colorbar": {
            "outlinewidth": 0,
            "ticks": ""
           }
          },
          "colorscale": {
           "diverging": [
            [
             0,
             "#8e0152"
            ],
            [
             0.1,
             "#c51b7d"
            ],
            [
             0.2,
             "#de77ae"
            ],
            [
             0.3,
             "#f1b6da"
            ],
            [
             0.4,
             "#fde0ef"
            ],
            [
             0.5,
             "#f7f7f7"
            ],
            [
             0.6,
             "#e6f5d0"
            ],
            [
             0.7,
             "#b8e186"
            ],
            [
             0.8,
             "#7fbc41"
            ],
            [
             0.9,
             "#4d9221"
            ],
            [
             1,
             "#276419"
            ]
           ],
           "sequential": [
            [
             0,
             "#0d0887"
            ],
            [
             0.1111111111111111,
             "#46039f"
            ],
            [
             0.2222222222222222,
             "#7201a8"
            ],
            [
             0.3333333333333333,
             "#9c179e"
            ],
            [
             0.4444444444444444,
             "#bd3786"
            ],
            [
             0.5555555555555556,
             "#d8576b"
            ],
            [
             0.6666666666666666,
             "#ed7953"
            ],
            [
             0.7777777777777778,
             "#fb9f3a"
            ],
            [
             0.8888888888888888,
             "#fdca26"
            ],
            [
             1,
             "#f0f921"
            ]
           ],
           "sequentialminus": [
            [
             0,
             "#0d0887"
            ],
            [
             0.1111111111111111,
             "#46039f"
            ],
            [
             0.2222222222222222,
             "#7201a8"
            ],
            [
             0.3333333333333333,
             "#9c179e"
            ],
            [
             0.4444444444444444,
             "#bd3786"
            ],
            [
             0.5555555555555556,
             "#d8576b"
            ],
            [
             0.6666666666666666,
             "#ed7953"
            ],
            [
             0.7777777777777778,
             "#fb9f3a"
            ],
            [
             0.8888888888888888,
             "#fdca26"
            ],
            [
             1,
             "#f0f921"
            ]
           ]
          },
          "colorway": [
           "#636efa",
           "#EF553B",
           "#00cc96",
           "#ab63fa",
           "#FFA15A",
           "#19d3f3",
           "#FF6692",
           "#B6E880",
           "#FF97FF",
           "#FECB52"
          ],
          "font": {
           "color": "#2a3f5f"
          },
          "geo": {
           "bgcolor": "white",
           "lakecolor": "white",
           "landcolor": "#E5ECF6",
           "showlakes": true,
           "showland": true,
           "subunitcolor": "white"
          },
          "hoverlabel": {
           "align": "left"
          },
          "hovermode": "closest",
          "mapbox": {
           "style": "light"
          },
          "paper_bgcolor": "white",
          "plot_bgcolor": "#E5ECF6",
          "polar": {
           "angularaxis": {
            "gridcolor": "white",
            "linecolor": "white",
            "ticks": ""
           },
           "bgcolor": "#E5ECF6",
           "radialaxis": {
            "gridcolor": "white",
            "linecolor": "white",
            "ticks": ""
           }
          },
          "scene": {
           "xaxis": {
            "backgroundcolor": "#E5ECF6",
            "gridcolor": "white",
            "gridwidth": 2,
            "linecolor": "white",
            "showbackground": true,
            "ticks": "",
            "zerolinecolor": "white"
           },
           "yaxis": {
            "backgroundcolor": "#E5ECF6",
            "gridcolor": "white",
            "gridwidth": 2,
            "linecolor": "white",
            "showbackground": true,
            "ticks": "",
            "zerolinecolor": "white"
           },
           "zaxis": {
            "backgroundcolor": "#E5ECF6",
            "gridcolor": "white",
            "gridwidth": 2,
            "linecolor": "white",
            "showbackground": true,
            "ticks": "",
            "zerolinecolor": "white"
           }
          },
          "shapedefaults": {
           "line": {
            "color": "#2a3f5f"
           }
          },
          "ternary": {
           "aaxis": {
            "gridcolor": "white",
            "linecolor": "white",
            "ticks": ""
           },
           "baxis": {
            "gridcolor": "white",
            "linecolor": "white",
            "ticks": ""
           },
           "bgcolor": "#E5ECF6",
           "caxis": {
            "gridcolor": "white",
            "linecolor": "white",
            "ticks": ""
           }
          },
          "title": {
           "x": 0.05
          },
          "xaxis": {
           "automargin": true,
           "gridcolor": "white",
           "linecolor": "white",
           "ticks": "",
           "title": {
            "standoff": 15
           },
           "zerolinecolor": "white",
           "zerolinewidth": 2
          },
          "yaxis": {
           "automargin": true,
           "gridcolor": "white",
           "linecolor": "white",
           "ticks": "",
           "title": {
            "standoff": 15
           },
           "zerolinecolor": "white",
           "zerolinewidth": 2
          }
         }
        },
        "xaxis": {
         "anchor": "y",
         "domain": [
          0,
          1
         ],
         "rangeslider": {
          "visible": false
         }
        },
        "xaxis2": {
         "anchor": "y2",
         "domain": [
          0,
          1
         ]
        },
        "yaxis": {
         "anchor": "x",
         "domain": [
          0.575,
          1
         ]
        },
        "yaxis2": {
         "anchor": "x2",
         "domain": [
          0,
          0.425
         ]
        }
       }
      }
     },
     "metadata": {},
     "output_type": "display_data"
    }
   ],
   "source": [
    "dfpl = df[0:100]\n",
    "fig = make_subplots(rows=2, cols=1)\n",
    "\n",
    "fig.append_trace(go.Candlestick(x=dfpl.index,\n",
    "                  open=dfpl[' Open'],\n",
    "                  high=dfpl[' High'],\n",
    "                  low=dfpl[' Low'],\n",
    "                  close=dfpl[' Close']),row=1,col=1)\n",
    "fig.append_trace(go.Scatter(x=dfpl.index,\n",
    "                  y=dfpl['Rsi']), row=2, col=1)\n",
    "\n",
    "fig.update_layout(xaxis_rangeslider_visible=False)\n",
    "fig.show()"
   ]
  },
  {
   "cell_type": "code",
   "execution_count": 6,
   "metadata": {},
   "outputs": [
    {
     "name": "stderr",
     "output_type": "stream",
     "text": [
      "Matplotlib is building the font cache; this may take a moment.\n"
     ]
    },
    {
     "data": {
      "text/plain": [
       "<AxesSubplot: >"
      ]
     },
     "execution_count": 6,
     "metadata": {},
     "output_type": "execute_result"
    },
    {
     "data": {
      "image/png": "[encoded data removed]",
      "text/plain": [
       "<Figure size 640x480 with 1 Axes>"
      ]
     },
     "metadata": {},
     "output_type": "display_data"
    }
   ],
   "source": [
    "pipdiff = 100*1e-4\n",
    "stplRatio = 1\n",
    "\n",
    "def Target(barsupfront, df1):\n",
    "    length = len(df1)\n",
    "    high = list(df1[' High'])\n",
    "    low = list(df1[' Low'])\n",
    "    close = list(df1[' Close']) \n",
    "    open = list(df1[' Open'])\n",
    "    trend = [None] * length\n",
    "    for line in range (0,length-barsupfront-2):\n",
    "        valueOpenLow = 0\n",
    "        valueOpenHigh = 0\n",
    "        for i in range (1,barsupfront+2):\n",
    "            value1 = open[line+1]-low[line+i]\n",
    "            value2 = open[line+1]-high[line+i]\n",
    "            valueOpenLow = max(value1, valueOpenLow)\n",
    "            valueOpenHigh = min(value2, valueOpenHigh)\n",
    "            if ((valueOpenLow >= pipdiff ) and (-valueOpenHigh <= (pipdiff / stplRatio))):\n",
    "                trend[line] = 1\n",
    "                break\n",
    "            elif ((valueOpenLow <= (pipdiff / stplRatio)) and (-valueOpenHigh >= pipdiff)):\n",
    "                trend[line] = 2\n",
    "                break\n",
    "            else:\n",
    "                trend[line] = 0\n",
    "                \n",
    "    return trend\n",
    "    \n",
    "df['Target'] = Target(40,df)\n",
    "df['Target'].hist()"
   ]
  },
  {
   "cell_type": "code",
   "execution_count": 7,
   "metadata": {},
   "outputs": [
    {
     "name": "stdout",
     "output_type": "stream",
     "text": [
      "               Open          High           Low         Close        Volume  \\\n",
      "count  25198.000000  25198.000000  25198.000000  25198.000000  2.519800e+04   \n",
      "mean       1.245722      1.247758      1.243726      1.245719  5.554833e+04   \n",
      "std        0.135562      0.135916      0.135171      0.135563  7.027816e+04   \n",
      "min        0.955040      0.957640      0.953570      0.955050  4.970000e+02   \n",
      "25%        1.126810      1.128420      1.125380      1.126812  1.685025e+04   \n",
      "50%        1.230710      1.232900      1.228790      1.230710  3.470350e+04   \n",
      "75%        1.352657      1.354430      1.350747      1.352618  6.178850e+04   \n",
      "max        1.599200      1.603890      1.596700      1.599040  2.545577e+06   \n",
      "\n",
      "                Rsi        Target  \n",
      "count  25198.000000  25198.000000  \n",
      "mean      49.819971      1.325700  \n",
      "std       12.983333      0.686184  \n",
      "min       10.803056      0.000000  \n",
      "25%       40.373596      1.000000  \n",
      "50%       49.990791      1.000000  \n",
      "75%       59.278428      2.000000  \n",
      "max       88.304762      2.000000  \n"
     ]
    }
   ],
   "source": [
    "df.dropna(inplace=True)\n",
    "df.reset_index(drop=True,inplace=True)\n",
    "print(df.describe())"
   ]
  },
  {
   "cell_type": "code",
   "execution_count": 8,
   "metadata": {},
   "outputs": [
    {
     "data": {
      "text/html": [
       "<div>\n",
       "<style scoped>\n",
       "    .dataframe tbody tr th:only-of-type {\n",
       "        vertical-align: middle;\n",
       "    }\n",
       "\n",
       "    .dataframe tbody tr th {\n",
       "        vertical-align: top;\n",
       "    }\n",
       "\n",
       "    .dataframe thead th {\n",
       "        text-align: right;\n",
       "    }\n",
       "</style>\n",
       "<table border=\"1\" class=\"dataframe\">\n",
       "  <thead>\n",
       "    <tr style=\"text-align: right;\">\n",
       "      <th></th>\n",
       "      <th>Time</th>\n",
       "      <th>Open</th>\n",
       "      <th>High</th>\n",
       "      <th>Low</th>\n",
       "      <th>Close</th>\n",
       "      <th>Volume</th>\n",
       "      <th>Rsi</th>\n",
       "      <th>Target</th>\n",
       "      <th>bb_upper</th>\n",
       "      <th>bb_lower</th>\n",
       "      <th>Signal</th>\n",
       "    </tr>\n",
       "  </thead>\n",
       "  <tbody>\n",
       "    <tr>\n",
       "      <th>0</th>\n",
       "      <td>2007-01-03 04:00:00</td>\n",
       "      <td>1.32856</td>\n",
       "      <td>1.32856</td>\n",
       "      <td>1.32659</td>\n",
       "      <td>1.32723</td>\n",
       "      <td>185677</td>\n",
       "      <td>71.367025</td>\n",
       "      <td>1.0</td>\n",
       "      <td>NaN</td>\n",
       "      <td>NaN</td>\n",
       "      <td>0</td>\n",
       "    </tr>\n",
       "    <tr>\n",
       "      <th>1</th>\n",
       "      <td>2007-01-03 08:00:00</td>\n",
       "      <td>1.32710</td>\n",
       "      <td>1.32736</td>\n",
       "      <td>1.32170</td>\n",
       "      <td>1.32301</td>\n",
       "      <td>186690</td>\n",
       "      <td>50.551053</td>\n",
       "      <td>1.0</td>\n",
       "      <td>NaN</td>\n",
       "      <td>NaN</td>\n",
       "      <td>0</td>\n",
       "    </tr>\n",
       "    <tr>\n",
       "      <th>2</th>\n",
       "      <td>2007-01-03 12:00:00</td>\n",
       "      <td>1.32338</td>\n",
       "      <td>1.32571</td>\n",
       "      <td>1.31596</td>\n",
       "      <td>1.31659</td>\n",
       "      <td>577315</td>\n",
       "      <td>34.205432</td>\n",
       "      <td>1.0</td>\n",
       "      <td>NaN</td>\n",
       "      <td>NaN</td>\n",
       "      <td>0</td>\n",
       "    </tr>\n",
       "    <tr>\n",
       "      <th>3</th>\n",
       "      <td>2007-01-03 16:00:00</td>\n",
       "      <td>1.31672</td>\n",
       "      <td>1.31725</td>\n",
       "      <td>1.31461</td>\n",
       "      <td>1.31576</td>\n",
       "      <td>677568</td>\n",
       "      <td>32.731865</td>\n",
       "      <td>1.0</td>\n",
       "      <td>NaN</td>\n",
       "      <td>NaN</td>\n",
       "      <td>0</td>\n",
       "    </tr>\n",
       "    <tr>\n",
       "      <th>4</th>\n",
       "      <td>2007-01-03 20:00:00</td>\n",
       "      <td>1.31520</td>\n",
       "      <td>1.31713</td>\n",
       "      <td>1.31520</td>\n",
       "      <td>1.31596</td>\n",
       "      <td>193966</td>\n",
       "      <td>33.475556</td>\n",
       "      <td>1.0</td>\n",
       "      <td>NaN</td>\n",
       "      <td>NaN</td>\n",
       "      <td>0</td>\n",
       "    </tr>\n",
       "    <tr>\n",
       "      <th>...</th>\n",
       "      <td>...</td>\n",
       "      <td>...</td>\n",
       "      <td>...</td>\n",
       "      <td>...</td>\n",
       "      <td>...</td>\n",
       "      <td>...</td>\n",
       "      <td>...</td>\n",
       "      <td>...</td>\n",
       "      <td>...</td>\n",
       "      <td>...</td>\n",
       "      <td>...</td>\n",
       "    </tr>\n",
       "    <tr>\n",
       "      <th>25193</th>\n",
       "      <td>2022-12-16 00:00:00</td>\n",
       "      <td>1.06407</td>\n",
       "      <td>1.06624</td>\n",
       "      <td>1.06385</td>\n",
       "      <td>1.06461</td>\n",
       "      <td>57137</td>\n",
       "      <td>60.549380</td>\n",
       "      <td>0.0</td>\n",
       "      <td>1.068690</td>\n",
       "      <td>1.060352</td>\n",
       "      <td>0</td>\n",
       "    </tr>\n",
       "    <tr>\n",
       "      <th>25194</th>\n",
       "      <td>2022-12-16 04:00:00</td>\n",
       "      <td>1.06459</td>\n",
       "      <td>1.06630</td>\n",
       "      <td>1.06252</td>\n",
       "      <td>1.06554</td>\n",
       "      <td>79113</td>\n",
       "      <td>62.466751</td>\n",
       "      <td>0.0</td>\n",
       "      <td>1.068720</td>\n",
       "      <td>1.060352</td>\n",
       "      <td>0</td>\n",
       "    </tr>\n",
       "    <tr>\n",
       "      <th>25195</th>\n",
       "      <td>2022-12-16 08:00:00</td>\n",
       "      <td>1.06553</td>\n",
       "      <td>1.06572</td>\n",
       "      <td>1.06093</td>\n",
       "      <td>1.06215</td>\n",
       "      <td>89742</td>\n",
       "      <td>52.458281</td>\n",
       "      <td>0.0</td>\n",
       "      <td>1.067640</td>\n",
       "      <td>1.060282</td>\n",
       "      <td>0</td>\n",
       "    </tr>\n",
       "    <tr>\n",
       "      <th>25196</th>\n",
       "      <td>2022-12-16 12:00:00</td>\n",
       "      <td>1.06214</td>\n",
       "      <td>1.06487</td>\n",
       "      <td>1.05976</td>\n",
       "      <td>1.06091</td>\n",
       "      <td>144797</td>\n",
       "      <td>49.343986</td>\n",
       "      <td>0.0</td>\n",
       "      <td>1.066211</td>\n",
       "      <td>1.060317</td>\n",
       "      <td>0</td>\n",
       "    </tr>\n",
       "    <tr>\n",
       "      <th>25197</th>\n",
       "      <td>2022-12-16 16:00:00</td>\n",
       "      <td>1.06090</td>\n",
       "      <td>1.06190</td>\n",
       "      <td>1.05917</td>\n",
       "      <td>1.05923</td>\n",
       "      <td>69840</td>\n",
       "      <td>45.410528</td>\n",
       "      <td>0.0</td>\n",
       "      <td>1.066398</td>\n",
       "      <td>1.059026</td>\n",
       "      <td>0</td>\n",
       "    </tr>\n",
       "  </tbody>\n",
       "</table>\n",
       "<p>25198 rows × 11 columns</p>\n",
       "</div>"
      ],
      "text/plain": [
       "                     Time     Open     High      Low    Close   Volume  \\\n",
       "0     2007-01-03 04:00:00  1.32856  1.32856  1.32659  1.32723   185677   \n",
       "1     2007-01-03 08:00:00  1.32710  1.32736  1.32170  1.32301   186690   \n",
       "2     2007-01-03 12:00:00  1.32338  1.32571  1.31596  1.31659   577315   \n",
       "3     2007-01-03 16:00:00  1.31672  1.31725  1.31461  1.31576   677568   \n",
       "4     2007-01-03 20:00:00  1.31520  1.31713  1.31520  1.31596   193966   \n",
       "...                   ...      ...      ...      ...      ...      ...   \n",
       "25193 2022-12-16 00:00:00  1.06407  1.06624  1.06385  1.06461    57137   \n",
       "25194 2022-12-16 04:00:00  1.06459  1.06630  1.06252  1.06554    79113   \n",
       "25195 2022-12-16 08:00:00  1.06553  1.06572  1.06093  1.06215    89742   \n",
       "25196 2022-12-16 12:00:00  1.06214  1.06487  1.05976  1.06091   144797   \n",
       "25197 2022-12-16 16:00:00  1.06090  1.06190  1.05917  1.05923    69840   \n",
       "\n",
       "             Rsi  Target  bb_upper  bb_lower  Signal  \n",
       "0      71.367025     1.0       NaN       NaN       0  \n",
       "1      50.551053     1.0       NaN       NaN       0  \n",
       "2      34.205432     1.0       NaN       NaN       0  \n",
       "3      32.731865     1.0       NaN       NaN       0  \n",
       "4      33.475556     1.0       NaN       NaN       0  \n",
       "...          ...     ...       ...       ...     ...  \n",
       "25193  60.549380     0.0  1.068690  1.060352       0  \n",
       "25194  62.466751     0.0  1.068720  1.060352       0  \n",
       "25195  52.458281     0.0  1.067640  1.060282       0  \n",
       "25196  49.343986     0.0  1.066211  1.060317       0  \n",
       "25197  45.410528     0.0  1.066398  1.059026       0  \n",
       "\n",
       "[25198 rows x 11 columns]"
      ]
     },
     "execution_count": 8,
     "metadata": {},
     "output_type": "execute_result"
    }
   ],
   "source": [
    "def generate_signals(df):\n",
    "  # Calculate the moving average of the closing price\n",
    "  ma = df[' Close'].rolling(window=10).mean()\n",
    "\n",
    "  # Calculate the standard deviation of the closing price\n",
    "  std = df[' Close'].rolling(window=10).std()\n",
    "\n",
    "  # Create a new column for the upper and lower bounds of the Bollinger Band\n",
    "  df['bb_upper'] = ma + 2*std\n",
    "  df['bb_lower'] = ma - 2*std\n",
    "\n",
    "  # Create a signal column that is 1 when the closing price is above the upper Bollinger Band and -1 when it is below the lower Bollinger Band\n",
    "  df['Signal'] = np.where(df[' Close'] > df['bb_upper'], 1, np.where(df[' Close'] < df['bb_lower'], -1, 0))\n",
    "\n",
    "\n",
    "\n",
    "# Generate the signals\n",
    "generate_signals(df)\n",
    "df\n"
   ]
  },
  {
   "cell_type": "code",
   "execution_count": 9,
   "metadata": {},
   "outputs": [
    {
     "data": {
      "text/html": [
       "<div>\n",
       "<style scoped>\n",
       "    .dataframe tbody tr th:only-of-type {\n",
       "        vertical-align: middle;\n",
       "    }\n",
       "\n",
       "    .dataframe tbody tr th {\n",
       "        vertical-align: top;\n",
       "    }\n",
       "\n",
       "    .dataframe thead th {\n",
       "        text-align: right;\n",
       "    }\n",
       "</style>\n",
       "<table border=\"1\" class=\"dataframe\">\n",
       "  <thead>\n",
       "    <tr style=\"text-align: right;\">\n",
       "      <th></th>\n",
       "      <th>Rsi</th>\n",
       "      <th>Target</th>\n",
       "      <th>Signalcat_-1</th>\n",
       "      <th>Signalcat_0</th>\n",
       "      <th>Signalcat_1</th>\n",
       "    </tr>\n",
       "  </thead>\n",
       "  <tbody>\n",
       "    <tr>\n",
       "      <th>0</th>\n",
       "      <td>71.367025</td>\n",
       "      <td>1.0</td>\n",
       "      <td>0</td>\n",
       "      <td>1</td>\n",
       "      <td>0</td>\n",
       "    </tr>\n",
       "    <tr>\n",
       "      <th>1</th>\n",
       "      <td>50.551053</td>\n",
       "      <td>1.0</td>\n",
       "      <td>0</td>\n",
       "      <td>1</td>\n",
       "      <td>0</td>\n",
       "    </tr>\n",
       "    <tr>\n",
       "      <th>2</th>\n",
       "      <td>34.205432</td>\n",
       "      <td>1.0</td>\n",
       "      <td>0</td>\n",
       "      <td>1</td>\n",
       "      <td>0</td>\n",
       "    </tr>\n",
       "    <tr>\n",
       "      <th>3</th>\n",
       "      <td>32.731865</td>\n",
       "      <td>1.0</td>\n",
       "      <td>0</td>\n",
       "      <td>1</td>\n",
       "      <td>0</td>\n",
       "    </tr>\n",
       "    <tr>\n",
       "      <th>4</th>\n",
       "      <td>33.475556</td>\n",
       "      <td>1.0</td>\n",
       "      <td>0</td>\n",
       "      <td>1</td>\n",
       "      <td>0</td>\n",
       "    </tr>\n",
       "    <tr>\n",
       "      <th>...</th>\n",
       "      <td>...</td>\n",
       "      <td>...</td>\n",
       "      <td>...</td>\n",
       "      <td>...</td>\n",
       "      <td>...</td>\n",
       "    </tr>\n",
       "    <tr>\n",
       "      <th>25193</th>\n",
       "      <td>60.549380</td>\n",
       "      <td>0.0</td>\n",
       "      <td>0</td>\n",
       "      <td>1</td>\n",
       "      <td>0</td>\n",
       "    </tr>\n",
       "    <tr>\n",
       "      <th>25194</th>\n",
       "      <td>62.466751</td>\n",
       "      <td>0.0</td>\n",
       "      <td>0</td>\n",
       "      <td>1</td>\n",
       "      <td>0</td>\n",
       "    </tr>\n",
       "    <tr>\n",
       "      <th>25195</th>\n",
       "      <td>52.458281</td>\n",
       "      <td>0.0</td>\n",
       "      <td>0</td>\n",
       "      <td>1</td>\n",
       "      <td>0</td>\n",
       "    </tr>\n",
       "    <tr>\n",
       "      <th>25196</th>\n",
       "      <td>49.343986</td>\n",
       "      <td>0.0</td>\n",
       "      <td>0</td>\n",
       "      <td>1</td>\n",
       "      <td>0</td>\n",
       "    </tr>\n",
       "    <tr>\n",
       "      <th>25197</th>\n",
       "      <td>45.410528</td>\n",
       "      <td>0.0</td>\n",
       "      <td>0</td>\n",
       "      <td>1</td>\n",
       "      <td>0</td>\n",
       "    </tr>\n",
       "  </tbody>\n",
       "</table>\n",
       "<p>25198 rows × 5 columns</p>\n",
       "</div>"
      ],
      "text/plain": [
       "             Rsi  Target  Signalcat_-1  Signalcat_0  Signalcat_1\n",
       "0      71.367025     1.0             0            1            0\n",
       "1      50.551053     1.0             0            1            0\n",
       "2      34.205432     1.0             0            1            0\n",
       "3      32.731865     1.0             0            1            0\n",
       "4      33.475556     1.0             0            1            0\n",
       "...          ...     ...           ...          ...          ...\n",
       "25193  60.549380     0.0             0            1            0\n",
       "25194  62.466751     0.0             0            1            0\n",
       "25195  52.458281     0.0             0            1            0\n",
       "25196  49.343986     0.0             0            1            0\n",
       "25197  45.410528     0.0             0            1            0\n",
       "\n",
       "[25198 rows x 5 columns]"
      ]
     },
     "execution_count": 9,
     "metadata": {},
     "output_type": "execute_result"
    }
   ],
   "source": [
    "attributes = ['Rsi', 'Signal', 'Target']\n",
    "df_model= df[attributes].copy()\n",
    "df_model['Signal'] = pd.Categorical(df_model['Signal'])\n",
    "dfDummies = pd.get_dummies(df_model['Signal'], prefix = 'Signalcat')\n",
    "df_model= df_model.drop(['Signal'], axis=1)\n",
    "df_model = pd.concat([df_model, dfDummies], axis=1)\n",
    "df_model"
   ]
  },
  {
   "cell_type": "code",
   "execution_count": 10,
   "metadata": {},
   "outputs": [
    {
     "name": "stdout",
     "output_type": "stream",
     "text": [
      "****Train Results****\n",
      "Accuracy: 70.8474%\n",
      "****Test Results****\n",
      "Accuracy: 42.9882%\n"
     ]
    }
   ],
   "source": [
    "attributes = ['Rsi', 'Signalcat_-1','Signalcat_0','Signalcat_1']\n",
    "X = df_model[attributes]\n",
    "y = df_model['Target']\n",
    "\n",
    "train_pct_index = int(0.2 * len(X))\n",
    "X_train, X_test = X[:train_pct_index], X[train_pct_index:]\n",
    "y_train, y_test = y[:train_pct_index], y[train_pct_index:]\n",
    "\n",
    "model = XGBClassifier()\n",
    "model.fit(X_train, y_train)\n",
    "pred_train = model.predict(X_train)\n",
    "pred_test = model.predict(X_test)\n",
    "\n",
    "acc_train = accuracy_score(y_train, pred_train)\n",
    "acc_test = accuracy_score(y_test, pred_test)\n",
    "print('****Train Results****')\n",
    "print(\"Accuracy: {:.4%}\".format(acc_train))\n",
    "print('****Test Results****')\n",
    "print(\"Accuracy: {:.4%}\".format(acc_test))"
   ]
  },
  {
   "cell_type": "code",
   "execution_count": 11,
   "metadata": {},
   "outputs": [
    {
     "name": "stdout",
     "output_type": "stream",
     "text": [
      "[[  28   61  185]\n",
      " [   2 1141  962]\n",
      " [   3  256 2401]]\n",
      "[[  17  826 2048]\n",
      " [  37 2423 6096]\n",
      " [  46 2440 6226]]\n",
      "              precision    recall  f1-score   support\n",
      "\n",
      "         0.0       0.85      0.10      0.18       274\n",
      "         1.0       0.78      0.54      0.64      2105\n",
      "         2.0       0.68      0.90      0.77      2660\n",
      "\n",
      "    accuracy                           0.71      5039\n",
      "   macro avg       0.77      0.52      0.53      5039\n",
      "weighted avg       0.73      0.71      0.69      5039\n",
      "\n",
      "              precision    recall  f1-score   support\n",
      "\n",
      "         0.0       0.17      0.01      0.01      2891\n",
      "         1.0       0.43      0.28      0.34      8556\n",
      "         2.0       0.43      0.71      0.54      8712\n",
      "\n",
      "    accuracy                           0.43     20159\n",
      "   macro avg       0.34      0.33      0.30     20159\n",
      "weighted avg       0.39      0.43      0.38     20159\n",
      "\n",
      "['Rsi', 'Signalcat_-1', 'Signalcat_0', 'Signalcat_1']\n"
     ]
    }
   ],
   "source": [
    "from sklearn.metrics import confusion_matrix\n",
    "from sklearn.metrics import classification_report\n",
    "\n",
    "matrix_train = confusion_matrix(y_train, pred_train)\n",
    "matrix_test = confusion_matrix(y_test, pred_test)\n",
    "\n",
    "print(matrix_train)\n",
    "print(matrix_test)\n",
    "\n",
    "report_train = classification_report(y_train, pred_train)\n",
    "report_test = classification_report(y_test, pred_test)\n",
    "\n",
    "print(report_train)\n",
    "print(report_test)\n",
    "\n",
    "print(model.get_booster().feature_names)"
   ]
  }
 ],
 "metadata": {
  "kernelspec": {
   "display_name": "Python 3.11.1 64-bit",
   "language": "python",
   "name": "python3"
  },
  "language_info": {
   "codemirror_mode": {
    "name": "ipython",
    "version": 3
   },
   "file_extension": ".py",
   "mimetype": "text/x-python",
   "name": "python",
   "nbconvert_exporter": "python",
   "pygments_lexer": "ipython3",
   "version": "3.11.1 (tags/v3.11.1:a7a450f, Dec  6 2022, 19:58:39) [MSC v.1934 64 bit (AMD64)]"
  },
  "orig_nbformat": 4,
  "vscode": {
   "interpreter": {
    "hash": "de47f5c92c0ee6f12a59a5613ac5feff6aab19ddff207ba0b3964cced08c4ccc"
   }
  }
 },
 "nbformat": 4,
 "nbformat_minor": 2
}
